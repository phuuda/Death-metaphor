{
 "cells": [
  {
   "cell_type": "code",
   "execution_count": 22,
   "metadata": {},
   "outputs": [
    {
     "data": {
      "text/html": [
       "<div>\n",
       "<style>\n",
       "    .dataframe thead tr:only-child th {\n",
       "        text-align: right;\n",
       "    }\n",
       "\n",
       "    .dataframe thead th {\n",
       "        text-align: left;\n",
       "    }\n",
       "\n",
       "    .dataframe tbody tr th {\n",
       "        vertical-align: top;\n",
       "    }\n",
       "</style>\n",
       "<table border=\"1\" class=\"dataframe\">\n",
       "  <thead>\n",
       "    <tr style=\"text-align: right;\">\n",
       "      <th></th>\n",
       "      <th>Thread_name</th>\n",
       "      <th>Thread_address</th>\n",
       "      <th>Username</th>\n",
       "      <th>Post_id</th>\n",
       "      <th>Date</th>\n",
       "      <th>Post_text</th>\n",
       "      <th>Reply_to_id</th>\n",
       "    </tr>\n",
       "  </thead>\n",
       "  <tbody>\n",
       "    <tr>\n",
       "      <th>0</th>\n",
       "      <td>Late December i was told i have prostate cancer</td>\n",
       "      <td>https://www.cancerresearchuk.org/about-cancer/...</td>\n",
       "      <td>psychicbob</td>\n",
       "      <td>post-1515791</td>\n",
       "      <td>8 Feb 2021 16:30</td>\n",
       "      <td>told bad enough scan late january since heard ...</td>\n",
       "      <td>NaN</td>\n",
       "    </tr>\n",
       "    <tr>\n",
       "      <th>1</th>\n",
       "      <td>SNLB result - moved to Stage III A melanoma</td>\n",
       "      <td>https://www.cancerresearchuk.org/about-cancer/...</td>\n",
       "      <td>nigel55</td>\n",
       "      <td>post-1518121</td>\n",
       "      <td>10 Feb 2021 14:26</td>\n",
       "      <td>hi everyone met mdt results yesterday moved st...</td>\n",
       "      <td>NaN</td>\n",
       "    </tr>\n",
       "    <tr>\n",
       "      <th>2</th>\n",
       "      <td>SVT after chemo</td>\n",
       "      <td>https://www.cancerresearchuk.org/about-cancer/...</td>\n",
       "      <td>joannemcfc</td>\n",
       "      <td>post-1518086</td>\n",
       "      <td>10 Feb 2021 14:18</td>\n",
       "      <td>hi 58 year old woman chemo radiation treatment...</td>\n",
       "      <td>NaN</td>\n",
       "    </tr>\n",
       "    <tr>\n",
       "      <th>3</th>\n",
       "      <td>Partial glossectomy</td>\n",
       "      <td>https://www.cancerresearchuk.org/about-cancer/...</td>\n",
       "      <td>nicki-d</td>\n",
       "      <td>post-940316</td>\n",
       "      <td>30 Jun 2019 05:06</td>\n",
       "      <td>diagnosed tongue cancer end may partial neck d...</td>\n",
       "      <td>NaN</td>\n",
       "    </tr>\n",
       "    <tr>\n",
       "      <th>4</th>\n",
       "      <td>Partial glossectomy</td>\n",
       "      <td>https://www.cancerresearchuk.org/about-cancer/...</td>\n",
       "      <td>chriss</td>\n",
       "      <td>post-941016</td>\n",
       "      <td>30 Jun 2019 18:40</td>\n",
       "      <td>hi sorry answer post maybe cancer many answeri...</td>\n",
       "      <td>post-940316</td>\n",
       "    </tr>\n",
       "  </tbody>\n",
       "</table>\n",
       "</div>"
      ],
      "text/plain": [
       "                                       Thread_name  \\\n",
       "0  Late December i was told i have prostate cancer   \n",
       "1      SNLB result - moved to Stage III A melanoma   \n",
       "2                                 SVT after chemo    \n",
       "3                             Partial glossectomy    \n",
       "4                             Partial glossectomy    \n",
       "\n",
       "                                      Thread_address    Username  \\\n",
       "0  https://www.cancerresearchuk.org/about-cancer/...  psychicbob   \n",
       "1  https://www.cancerresearchuk.org/about-cancer/...     nigel55   \n",
       "2  https://www.cancerresearchuk.org/about-cancer/...  joannemcfc   \n",
       "3  https://www.cancerresearchuk.org/about-cancer/...     nicki-d   \n",
       "4  https://www.cancerresearchuk.org/about-cancer/...      chriss   \n",
       "\n",
       "        Post_id               Date  \\\n",
       "0  post-1515791   8 Feb 2021 16:30   \n",
       "1  post-1518121  10 Feb 2021 14:26   \n",
       "2  post-1518086  10 Feb 2021 14:18   \n",
       "3   post-940316  30 Jun 2019 05:06   \n",
       "4   post-941016  30 Jun 2019 18:40   \n",
       "\n",
       "                                           Post_text  Reply_to_id  \n",
       "0  told bad enough scan late january since heard ...          NaN  \n",
       "1  hi everyone met mdt results yesterday moved st...          NaN  \n",
       "2  hi 58 year old woman chemo radiation treatment...          NaN  \n",
       "3  diagnosed tongue cancer end may partial neck d...          NaN  \n",
       "4  hi sorry answer post maybe cancer many answeri...  post-940316  "
      ]
     },
     "execution_count": 22,
     "metadata": {},
     "output_type": "execute_result"
    }
   ],
   "source": [
    "from IPython.display import HTML, display\n",
    "import pandas as pd\n",
    "\n",
    "import nltk\n",
    "from nltk.tokenize import sent_tokenize\n",
    "from nltk.tokenize import word_tokenize\n",
    "from nltk.probability import FreqDist\n",
    "from nltk.tokenize import RegexpTokenizer\n",
    "from nltk.corpus import stopwords\n",
    "from nltk.stem import PorterStemmer\n",
    "from nltk.stem.wordnet import WordNetLemmatizer\n",
    "from nltk.collocations import *\n",
    "from nltk.corpus import names \n",
    "\n",
    "import unicodedata\n",
    "import collections\n",
    "\n",
    "import string\n",
    "\n",
    "caring_path = \"/Users/Sofia/Desktop/LING_506/project/data/data_version_01/cancer_research_living_with_cancer_05.csv\"\n",
    "\n",
    "caring_data = pd.read_csv(caring_path, delimiter=\"\\t\")\n",
    "column_names = ['Thread_name', 'Thread_address', 'Username', \"Post_id\",\n",
    "                                  \"Date\", \"Post_text\", \"Reply_to_id\"]\n",
    "\n",
    "\n",
    "caring_data.head()"
   ]
  },
  {
   "cell_type": "code",
   "execution_count": 5,
   "metadata": {},
   "outputs": [
    {
     "data": {
      "text/html": [
       "<div>\n",
       "<style>\n",
       "    .dataframe thead tr:only-child th {\n",
       "        text-align: right;\n",
       "    }\n",
       "\n",
       "    .dataframe thead th {\n",
       "        text-align: left;\n",
       "    }\n",
       "\n",
       "    .dataframe tbody tr th {\n",
       "        vertical-align: top;\n",
       "    }\n",
       "</style>\n",
       "<table border=\"1\" class=\"dataframe\">\n",
       "  <thead>\n",
       "    <tr style=\"text-align: right;\">\n",
       "      <th></th>\n",
       "      <th>Thread_name</th>\n",
       "      <th>Post_text</th>\n",
       "    </tr>\n",
       "  </thead>\n",
       "  <tbody>\n",
       "    <tr>\n",
       "      <th>25418</th>\n",
       "      <td>poem read at grans funeral</td>\n",
       "      <td>['hi', 'kim', 'truly', 'sorry', 'hear', 'loss'...</td>\n",
       "    </tr>\n",
       "    <tr>\n",
       "      <th>10157</th>\n",
       "      <td>\"Prophylactic mastectomy\" &amp; \"boob job\"</td>\n",
       "      <td>['bit', 'sad', 'hear', 'rather', 'young', 'lad...</td>\n",
       "    </tr>\n",
       "    <tr>\n",
       "      <th>5180</th>\n",
       "      <td>Tablets for 5-10 years after Radiotherapy</td>\n",
       "      <td>['thanks', 'replying', 'jackie', 'sorry', 'hea...</td>\n",
       "    </tr>\n",
       "    <tr>\n",
       "      <th>8042</th>\n",
       "      <td>Want to stop Chemo</td>\n",
       "      <td>['thanks', 'much']</td>\n",
       "    </tr>\n",
       "    <tr>\n",
       "      <th>12006</th>\n",
       "      <td>Good news, yet again</td>\n",
       "      <td>['thanks', 'river', 'brian']</td>\n",
       "    </tr>\n",
       "  </tbody>\n",
       "</table>\n",
       "</div>"
      ],
      "text/plain": [
       "                                      Thread_name  \\\n",
       "25418                  poem read at grans funeral   \n",
       "10157      \"Prophylactic mastectomy\" & \"boob job\"   \n",
       "5180   Tablets for 5-10 years after Radiotherapy    \n",
       "8042                           Want to stop Chemo   \n",
       "12006                        Good news, yet again   \n",
       "\n",
       "                                               Post_text  \n",
       "25418  ['hi', 'kim', 'truly', 'sorry', 'hear', 'loss'...  \n",
       "10157  ['bit', 'sad', 'hear', 'rather', 'young', 'lad...  \n",
       "5180   ['thanks', 'replying', 'jackie', 'sorry', 'hea...  \n",
       "8042                                  ['thanks', 'much']  \n",
       "12006                       ['thanks', 'river', 'brian']  "
      ]
     },
     "execution_count": 5,
     "metadata": {},
     "output_type": "execute_result"
    }
   ],
   "source": [
    "# REMOVE META-DATA COLUMNS\n",
    "\n",
    "caring_data = caring_data.drop(['Thread_address', 'Username', \"Post_id\", \"Date\", \"Reply_to_id\"], axis=1).sample(100) # SAMPLE OF 100 ROWS \n",
    "\n",
    "# Print out the first rows of caring_data\n",
    "caring_data.head()"
   ]
  },
  {
   "cell_type": "code",
   "execution_count": 24,
   "metadata": {},
   "outputs": [
    {
     "data": {
      "image/png": "[encoded data removed]",
      "text/plain": [
       "<PIL.Image.Image image mode=RGB size=400x200 at 0x1A0A7BCA90>"
      ]
     },
     "execution_count": 24,
     "metadata": {},
     "output_type": "execute_result"
    }
   ],
   "source": [
    "from wordcloud import WordCloud\n",
    "\n",
    "\n",
    "# Join all posts together\n",
    "\n",
    "long_strings = caring_data.Post_text.tolist()\n",
    "long_string = \" \".join(long_strings)\n",
    "\n",
    "#print(long_string)\n",
    "\n",
    "# Create a WordCloud object\n",
    "wordcloud = WordCloud(background_color=\"white\", max_words=5000, contour_width=3, contour_color='steelblue')\n",
    "\n",
    "# Generate a word cloud\n",
    "wordcloud.generate(long_string)\n",
    "\n",
    "# Visualize the word cloud\n",
    "wordcloud.to_image()\n",
    "\n"
   ]
  },
  {
   "cell_type": "code",
   "execution_count": 31,
   "metadata": {},
   "outputs": [],
   "source": [
    "# Gensim\n",
    "import re\n",
    "import numpy as np\n",
    "import pandas as pd\n",
    "from pprint import pprint\n",
    "\n",
    "import gensim\n",
    "import gensim.corpora as corpora\n",
    "from gensim.utils import simple_preprocess\n",
    "from gensim.models import CoherenceModel\n",
    "\n",
    "# Plotting tools\n",
    "import pyLDAvis\n",
    "import pyLDAvis.gensim  # don't skip this\n",
    "import matplotlib.pyplot as plt\n",
    "%matplotlib inline\n",
    "\n",
    "# Enable logging for gensim - optional\n",
    "import logging\n",
    "logging.basicConfig(format='%(asctime)s : %(levelname)s : %(message)s', level=logging.ERROR)\n",
    "\n",
    "import warnings\n",
    "warnings.filterwarnings(\"ignore\",category=DeprecationWarning)\n",
    "\n"
   ]
  },
  {
   "cell_type": "code",
   "execution_count": 32,
   "metadata": {},
   "outputs": [
    {
     "name": "stdout",
     "output_type": "stream",
     "text": [
      "['told bad enough scan late january since heard phoned gp said told prostate '\n",
      " 'cancer told said dont cancer test came back negative told phone hospital ask '\n",
      " 'results scan said appointment email consultant asked results scan said '\n",
      " 'consultant give asked took long nothing said busy']\n"
     ]
    }
   ],
   "source": [
    "# Convert to list\n",
    "\n",
    "data = caring_data.Post_text.values.tolist()\n",
    "pprint(data[:1])"
   ]
  },
  {
   "cell_type": "code",
   "execution_count": 33,
   "metadata": {},
   "outputs": [
    {
     "name": "stdout",
     "output_type": "stream",
     "text": [
      "[['told', 'bad', 'enough', 'scan', 'late', 'january', 'since', 'heard', 'phoned', 'gp', 'said', 'told', 'prostate', 'cancer', 'told', 'said', 'dont', 'cancer', 'test', 'came', 'back', 'negative', 'told', 'phone', 'hospital', 'ask', 'results', 'scan', 'said', 'appointment', 'email', 'consultant', 'asked', 'results', 'scan', 'said', 'consultant', 'give', 'asked', 'took', 'long', 'nothing', 'said', 'busy']]\n"
     ]
    }
   ],
   "source": [
    "# Tokenize\n",
    "\n",
    "def sent_to_words(sentences):\n",
    "    for sentence in sentences:\n",
    "        yield(gensim.utils.simple_preprocess(str(sentence), deacc=True))  # deacc=True removes punctuations\n",
    "\n",
    "data_words = list(sent_to_words(data))\n",
    "\n",
    "print(data_words[:1])"
   ]
  },
  {
   "cell_type": "code",
   "execution_count": 58,
   "metadata": {},
   "outputs": [
    {
     "name": "stdout",
     "output_type": "stream",
     "text": [
      "[[(0, 4), (1, 1), (2, 1), (3, 3), (4, 1), (5, 1), (6, 1), (7, 1), (8, 1), (9, 1), (10, 5), (11, 1), (12, 2), (13, 1), (14, 1), (15, 1), (16, 1), (17, 1), (18, 1), (19, 1), (20, 1), (21, 2), (22, 1), (23, 1), (24, 2), (25, 2), (26, 1), (27, 1), (28, 1), (29, 1), (30, 1)]]\n"
     ]
    }
   ],
   "source": [
    "# Create dictionary and corpus for topic modeling\n",
    "\n",
    "# Create Dictionary\n",
    "id2word = corpora.Dictionary(data_words) # TEST OF PORTION OF TEXTS\n",
    "\n",
    "# Create Corpus\n",
    "texts = data_words # TEST OF PORTION OF TEXTS\n",
    "\n",
    "# Term Document Frequency\n",
    "corpus = [id2word.doc2bow(text) for text in texts]\n",
    "\n",
    "# View\n",
    "print(corpus[:1])\n"
   ]
  },
  {
   "cell_type": "code",
   "execution_count": 59,
   "metadata": {},
   "outputs": [
    {
     "data": {
      "text/plain": [
       "'told'"
      ]
     },
     "execution_count": 59,
     "metadata": {},
     "output_type": "execute_result"
    }
   ],
   "source": [
    "id2word[0]"
   ]
  },
  {
   "cell_type": "code",
   "execution_count": 39,
   "metadata": {},
   "outputs": [],
   "source": [
    "# Human readable format of corpus (term-frequency)\n",
    "#[[(id2word[id], freq) for id, freq in cp] for cp in corpus[:1]]"
   ]
  },
  {
   "cell_type": "code",
   "execution_count": 54,
   "metadata": {
    "collapsed": true
   },
   "outputs": [],
   "source": [
    "# Build LDA model\n",
    "\n",
    "# num_topics -- try 10, 15, 20\n",
    "\n",
    "num_topics = 10\n",
    "\n",
    "# chunksize -- return to 100\n",
    "\n",
    "lda_model = gensim.models.ldamodel.LdaModel(corpus = corpus,\n",
    "                                           id2word = id2word,\n",
    "                                           num_topics = num_topics,\n",
    "                                           random_state = 100,\n",
    "                                           update_every = 1,\n",
    "                                           chunksize = 100,\n",
    "                                           passes = 10,\n",
    "                                           alpha = 'auto',\n",
    "                                           per_word_topics = True)\n",
    "\n"
   ]
  },
  {
   "cell_type": "code",
   "execution_count": 55,
   "metadata": {},
   "outputs": [
    {
     "name": "stdout",
     "output_type": "stream",
     "text": [
      "[(0,\n",
      "  '0.048*\"hi\" + 0.045*\"know\" + 0.040*\"good\" + 0.034*\"hope\" + 0.030*\"well\" + '\n",
      "  '0.025*\"take\" + 0.023*\"help\" + 0.021*\"us\" + 0.019*\"keep\" + 0.018*\"best\"'),\n",
      " (1,\n",
      "  '0.025*\"last\" + 0.022*\"treatment\" + 0.020*\"year\" + 0.019*\"week\" + '\n",
      "  '0.017*\"weeks\" + 0.017*\"went\" + 0.017*\"said\" + 0.017*\"next\" + 0.016*\"anyone\" '\n",
      "  '+ 0.015*\"hair\"'),\n",
      " (2,\n",
      "  '0.032*\"day\" + 0.022*\"bit\" + 0.021*\"still\" + 0.020*\"family\" + 0.019*\"got\" + '\n",
      "  '0.019*\"better\" + 0.018*\"today\" + 0.017*\"never\" + 0.016*\"thanks\" + '\n",
      "  '0.015*\"done\"'),\n",
      " (3,\n",
      "  '0.125*\"cancer\" + 0.030*\"told\" + 0.029*\"years\" + 0.021*\"breast\" + '\n",
      "  '0.017*\"diagnosed\" + 0.013*\"prostate\" + 0.012*\"scan\" + 0.011*\"nothing\" + '\n",
      "  '0.011*\"came\" + 0.010*\"doctor\"'),\n",
      " (4,\n",
      "  '0.054*\"jules\" + 0.038*\"wig\" + 0.029*\"managed\" + 0.028*\"short\" + '\n",
      "  '0.027*\"visit\" + 0.025*\"unfortunately\" + 0.023*\"cold\" + 0.023*\"heart\" + '\n",
      "  '0.021*\"wear\" + 0.014*\"appreciate\"'),\n",
      " (5,\n",
      "  '0.068*\"hospital\" + 0.046*\"home\" + 0.044*\"lisa\" + 0.037*\"surgery\" + '\n",
      "  '0.027*\"peg\" + 0.027*\"op\" + 0.025*\"removed\" + 0.023*\"sleep\" + 0.020*\"clear\" '\n",
      "  '+ 0.019*\"operation\"'),\n",
      " (6,\n",
      "  '0.110*\"love\" + 0.056*\"lol\" + 0.022*\"oh\" + 0.017*\"holiday\" + 0.016*\"man\" + '\n",
      "  '0.016*\"money\" + 0.016*\"book\" + 0.015*\"ones\" + 0.014*\"dog\" + 0.014*\"relay\"'),\n",
      " (7,\n",
      "  '0.083*\"chemo\" + 0.043*\"first\" + 0.033*\"give\" + 0.031*\"xx\" + 0.028*\"night\" + '\n",
      "  '0.023*\"side\" + 0.022*\"start\" + 0.021*\"different\" + 0.019*\"speak\" + '\n",
      "  '0.016*\"taking\"'),\n",
      " (8,\n",
      "  '0.045*\"get\" + 0.039*\"like\" + 0.036*\"time\" + 0.032*\"one\" + 0.031*\"think\" + '\n",
      "  '0.028*\"feel\" + 0.026*\"go\" + 0.025*\"going\" + 0.024*\"really\" + 0.018*\"see\"'),\n",
      " (9,\n",
      "  '0.053*\"would\" + 0.049*\"people\" + 0.022*\"many\" + 0.022*\"find\" + 0.021*\"site\" '\n",
      "  '+ 0.020*\"support\" + 0.020*\"may\" + 0.020*\"read\" + 0.016*\"url\" + '\n",
      "  '0.015*\"also\"')]\n"
     ]
    }
   ],
   "source": [
    "# Print the Keyword in the 10 topics\n",
    "pprint(lda_model.print_topics())\n",
    "doc_lda = lda_model[corpus]"
   ]
  },
  {
   "cell_type": "code",
   "execution_count": 56,
   "metadata": {},
   "outputs": [
    {
     "name": "stdout",
     "output_type": "stream",
     "text": [
      "\n",
      "Perplexity:  -7.29051722437\n",
      "\n",
      "Coherence Score:  0.376144446045\n"
     ]
    }
   ],
   "source": [
    "# Compute Perplexity\n",
    "print('\\nPerplexity: ', lda_model.log_perplexity(corpus))  # a measure of how good the model is. lower the better.\n",
    "\n",
    "# Compute Coherence Score\n",
    "coherence_model_lda = CoherenceModel(model = lda_model, texts = data_words, dictionary = id2word, coherence = 'c_v')\n",
    "coherence_lda = coherence_model_lda.get_coherence()\n",
    "print('\\nCoherence Score: ', coherence_lda)"
   ]
  },
  {
   "cell_type": "code",
   "execution_count": 60,
   "metadata": {},
   "outputs": [
    {
     "ename": "ValueError",
     "evalue": "Length of values does not match length of index",
     "output_type": "error",
     "traceback": [
      "\u001b[0;31m---------------------------------------------------------------------------\u001b[0m",
      "\u001b[0;31m_RemoteTraceback\u001b[0m                          Traceback (most recent call last)",
      "\u001b[0;31m_RemoteTraceback\u001b[0m: \n\"\"\"\nTraceback (most recent call last):\n  File \"/Users/Sofia/anaconda/lib/python3.6/site-packages/joblib/externals/loky/process_executor.py\", line 418, in _process_worker\n    r = call_item()\n  File \"/Users/Sofia/anaconda/lib/python3.6/site-packages/joblib/externals/loky/process_executor.py\", line 272, in __call__\n    return self.fn(*self.args, **self.kwargs)\n  File \"/Users/Sofia/anaconda/lib/python3.6/site-packages/joblib/_parallel_backends.py\", line 608, in __call__\n    return self.func(*args, **kwargs)\n  File \"/Users/Sofia/anaconda/lib/python3.6/site-packages/joblib/parallel.py\", line 256, in __call__\n    for func, args, kwargs in self.items]\n  File \"/Users/Sofia/anaconda/lib/python3.6/site-packages/joblib/parallel.py\", line 256, in <listcomp>\n    for func, args, kwargs in self.items]\n  File \"/Users/Sofia/anaconda/lib/python3.6/site-packages/pyLDAvis/_prepare.py\", line 224, in _find_relevance_chunks\n    return pd.concat([_find_relevance(log_ttd, log_lift, R, l) for l in lambda_seq])\n  File \"/Users/Sofia/anaconda/lib/python3.6/site-packages/pyLDAvis/_prepare.py\", line 224, in <listcomp>\n    return pd.concat([_find_relevance(log_ttd, log_lift, R, l) for l in lambda_seq])\n  File \"/Users/Sofia/anaconda/lib/python3.6/site-packages/pyLDAvis/_prepare.py\", line 220, in _find_relevance\n    return relevance.T.apply(lambda topic: topic.nlargest(R).index)\n  File \"/Users/Sofia/anaconda/lib/python3.6/site-packages/pandas/core/frame.py\", line 4262, in apply\n    ignore_failures=ignore_failures)\n  File \"/Users/Sofia/anaconda/lib/python3.6/site-packages/pandas/core/frame.py\", line 4375, in _apply_standard\n    result = self._constructor(data=results, index=index)\n  File \"/Users/Sofia/anaconda/lib/python3.6/site-packages/pandas/core/frame.py\", line 275, in __init__\n    mgr = self._init_dict(data, index, columns, dtype=dtype)\n  File \"/Users/Sofia/anaconda/lib/python3.6/site-packages/pandas/core/frame.py\", line 411, in _init_dict\n    return _arrays_to_mgr(arrays, data_names, index, columns, dtype=dtype)\n  File \"/Users/Sofia/anaconda/lib/python3.6/site-packages/pandas/core/frame.py\", line 5501, in _arrays_to_mgr\n    arrays = _homogenize(arrays, index, dtype)\n  File \"/Users/Sofia/anaconda/lib/python3.6/site-packages/pandas/core/frame.py\", line 5812, in _homogenize\n    raise_cast_failure=False)\n  File \"/Users/Sofia/anaconda/lib/python3.6/site-packages/pandas/core/series.py\", line 2950, in _sanitize_array\n    subarr = _sanitize_index(data, index, copy=True)\n  File \"/Users/Sofia/anaconda/lib/python3.6/site-packages/pandas/core/series.py\", line 2879, in _sanitize_index\n    raise ValueError('Length of values does not match length of ' 'index')\nValueError: Length of values does not match length of index\n\"\"\"",
      "\nThe above exception was the direct cause of the following exception:\n",
      "\u001b[0;31mValueError\u001b[0m                                Traceback (most recent call last)",
      "\u001b[0;32m<ipython-input-60-5a7d0ed8dcbb>\u001b[0m in \u001b[0;36m<module>\u001b[0;34m()\u001b[0m\n\u001b[1;32m      1\u001b[0m \u001b[0;31m# Visualize the topics\u001b[0m\u001b[0;34m\u001b[0m\u001b[0;34m\u001b[0m\u001b[0m\n\u001b[1;32m      2\u001b[0m \u001b[0mpyLDAvis\u001b[0m\u001b[0;34m.\u001b[0m\u001b[0menable_notebook\u001b[0m\u001b[0;34m(\u001b[0m\u001b[0;34m)\u001b[0m\u001b[0;34m\u001b[0m\u001b[0m\n\u001b[0;32m----> 3\u001b[0;31m \u001b[0mvis\u001b[0m \u001b[0;34m=\u001b[0m \u001b[0mpyLDAvis\u001b[0m\u001b[0;34m.\u001b[0m\u001b[0mgensim\u001b[0m\u001b[0;34m.\u001b[0m\u001b[0mprepare\u001b[0m\u001b[0;34m(\u001b[0m\u001b[0mlda_model\u001b[0m\u001b[0;34m,\u001b[0m \u001b[0mcorpus\u001b[0m\u001b[0;34m,\u001b[0m \u001b[0mid2word\u001b[0m\u001b[0;34m)\u001b[0m\u001b[0;34m\u001b[0m\u001b[0m\n\u001b[0m\u001b[1;32m      4\u001b[0m \u001b[0mvis\u001b[0m\u001b[0;34m\u001b[0m\u001b[0m\n",
      "\u001b[0;32m/Users/Sofia/anaconda/lib/python3.6/site-packages/pyLDAvis/gensim.py\u001b[0m in \u001b[0;36mprepare\u001b[0;34m(topic_model, corpus, dictionary, doc_topic_dist, **kwargs)\u001b[0m\n\u001b[1;32m    122\u001b[0m     \"\"\"\n\u001b[1;32m    123\u001b[0m     \u001b[0mopts\u001b[0m \u001b[0;34m=\u001b[0m \u001b[0mfp\u001b[0m\u001b[0;34m.\u001b[0m\u001b[0mmerge\u001b[0m\u001b[0;34m(\u001b[0m\u001b[0m_extract_data\u001b[0m\u001b[0;34m(\u001b[0m\u001b[0mtopic_model\u001b[0m\u001b[0;34m,\u001b[0m \u001b[0mcorpus\u001b[0m\u001b[0;34m,\u001b[0m \u001b[0mdictionary\u001b[0m\u001b[0;34m,\u001b[0m \u001b[0mdoc_topic_dist\u001b[0m\u001b[0;34m)\u001b[0m\u001b[0;34m,\u001b[0m \u001b[0mkwargs\u001b[0m\u001b[0;34m)\u001b[0m\u001b[0;34m\u001b[0m\u001b[0m\n\u001b[0;32m--> 124\u001b[0;31m     \u001b[0;32mreturn\u001b[0m \u001b[0mvis_prepare\u001b[0m\u001b[0;34m(\u001b[0m\u001b[0;34m**\u001b[0m\u001b[0mopts\u001b[0m\u001b[0;34m)\u001b[0m\u001b[0;34m\u001b[0m\u001b[0m\n\u001b[0m",
      "\u001b[0;32m/Users/Sofia/anaconda/lib/python3.6/site-packages/pyLDAvis/_prepare.py\u001b[0m in \u001b[0;36mprepare\u001b[0;34m(topic_term_dists, doc_topic_dists, doc_lengths, vocab, term_frequency, R, lambda_step, mds, n_jobs, plot_opts, sort_topics, start_index)\u001b[0m\n\u001b[1;32m    440\u001b[0m     topic_info = _topic_info(topic_term_dists, topic_proportion,\n\u001b[1;32m    441\u001b[0m                              \u001b[0mterm_frequency\u001b[0m\u001b[0;34m,\u001b[0m \u001b[0mterm_topic_freq\u001b[0m\u001b[0;34m,\u001b[0m \u001b[0mvocab\u001b[0m\u001b[0;34m,\u001b[0m \u001b[0mlambda_step\u001b[0m\u001b[0;34m,\u001b[0m \u001b[0mR\u001b[0m\u001b[0;34m,\u001b[0m\u001b[0;34m\u001b[0m\u001b[0m\n\u001b[0;32m--> 442\u001b[0;31m                              n_jobs, start_index)\n\u001b[0m\u001b[1;32m    443\u001b[0m     \u001b[0mtoken_table\u001b[0m \u001b[0;34m=\u001b[0m \u001b[0m_token_table\u001b[0m\u001b[0;34m(\u001b[0m\u001b[0mtopic_info\u001b[0m\u001b[0;34m,\u001b[0m \u001b[0mterm_topic_freq\u001b[0m\u001b[0;34m,\u001b[0m \u001b[0mvocab\u001b[0m\u001b[0;34m,\u001b[0m \u001b[0mterm_frequency\u001b[0m\u001b[0;34m,\u001b[0m \u001b[0mstart_index\u001b[0m\u001b[0;34m)\u001b[0m\u001b[0;34m\u001b[0m\u001b[0m\n\u001b[1;32m    444\u001b[0m     \u001b[0mtopic_coordinates\u001b[0m \u001b[0;34m=\u001b[0m \u001b[0m_topic_coordinates\u001b[0m\u001b[0;34m(\u001b[0m\u001b[0mmds\u001b[0m\u001b[0;34m,\u001b[0m \u001b[0mtopic_term_dists\u001b[0m\u001b[0;34m,\u001b[0m \u001b[0mtopic_proportion\u001b[0m\u001b[0;34m,\u001b[0m \u001b[0mstart_index\u001b[0m\u001b[0;34m)\u001b[0m\u001b[0;34m\u001b[0m\u001b[0m\n",
      "\u001b[0;32m/Users/Sofia/anaconda/lib/python3.6/site-packages/pyLDAvis/_prepare.py\u001b[0m in \u001b[0;36m_topic_info\u001b[0;34m(topic_term_dists, topic_proportion, term_frequency, term_topic_freq, vocab, lambda_step, R, n_jobs, start_index)\u001b[0m\n\u001b[1;32m    277\u001b[0m     top_terms = pd.concat(Parallel(n_jobs=n_jobs)\n\u001b[1;32m    278\u001b[0m                           (delayed(_find_relevance_chunks)(log_ttd, log_lift, R, ls)\n\u001b[0;32m--> 279\u001b[0;31m                           for ls in _job_chunks(lambda_seq, n_jobs)))\n\u001b[0m\u001b[1;32m    280\u001b[0m     \u001b[0mtopic_dfs\u001b[0m \u001b[0;34m=\u001b[0m \u001b[0mmap\u001b[0m\u001b[0;34m(\u001b[0m\u001b[0mtopic_top_term_df\u001b[0m\u001b[0;34m,\u001b[0m \u001b[0menumerate\u001b[0m\u001b[0;34m(\u001b[0m\u001b[0mtop_terms\u001b[0m\u001b[0;34m.\u001b[0m\u001b[0mT\u001b[0m\u001b[0;34m.\u001b[0m\u001b[0miterrows\u001b[0m\u001b[0;34m(\u001b[0m\u001b[0;34m)\u001b[0m\u001b[0;34m,\u001b[0m \u001b[0mstart_index\u001b[0m\u001b[0;34m)\u001b[0m\u001b[0;34m)\u001b[0m\u001b[0;34m\u001b[0m\u001b[0m\n\u001b[1;32m    281\u001b[0m     \u001b[0;32mreturn\u001b[0m \u001b[0mpd\u001b[0m\u001b[0;34m.\u001b[0m\u001b[0mconcat\u001b[0m\u001b[0;34m(\u001b[0m\u001b[0;34m[\u001b[0m\u001b[0mdefault_term_info\u001b[0m\u001b[0;34m]\u001b[0m \u001b[0;34m+\u001b[0m \u001b[0mlist\u001b[0m\u001b[0;34m(\u001b[0m\u001b[0mtopic_dfs\u001b[0m\u001b[0;34m)\u001b[0m\u001b[0;34m)\u001b[0m\u001b[0;34m\u001b[0m\u001b[0m\n",
      "\u001b[0;32m/Users/Sofia/anaconda/lib/python3.6/site-packages/joblib/parallel.py\u001b[0m in \u001b[0;36m__call__\u001b[0;34m(self, iterable)\u001b[0m\n\u001b[1;32m   1015\u001b[0m \u001b[0;34m\u001b[0m\u001b[0m\n\u001b[1;32m   1016\u001b[0m             \u001b[0;32mwith\u001b[0m \u001b[0mself\u001b[0m\u001b[0;34m.\u001b[0m\u001b[0m_backend\u001b[0m\u001b[0;34m.\u001b[0m\u001b[0mretrieval_context\u001b[0m\u001b[0;34m(\u001b[0m\u001b[0;34m)\u001b[0m\u001b[0;34m:\u001b[0m\u001b[0;34m\u001b[0m\u001b[0m\n\u001b[0;32m-> 1017\u001b[0;31m                 \u001b[0mself\u001b[0m\u001b[0;34m.\u001b[0m\u001b[0mretrieve\u001b[0m\u001b[0;34m(\u001b[0m\u001b[0;34m)\u001b[0m\u001b[0;34m\u001b[0m\u001b[0m\n\u001b[0m\u001b[1;32m   1018\u001b[0m             \u001b[0;31m# Make sure that we get a last message telling us we are done\u001b[0m\u001b[0;34m\u001b[0m\u001b[0;34m\u001b[0m\u001b[0m\n\u001b[1;32m   1019\u001b[0m             \u001b[0melapsed_time\u001b[0m \u001b[0;34m=\u001b[0m \u001b[0mtime\u001b[0m\u001b[0;34m.\u001b[0m\u001b[0mtime\u001b[0m\u001b[0;34m(\u001b[0m\u001b[0;34m)\u001b[0m \u001b[0;34m-\u001b[0m \u001b[0mself\u001b[0m\u001b[0;34m.\u001b[0m\u001b[0m_start_time\u001b[0m\u001b[0;34m\u001b[0m\u001b[0m\n",
      "\u001b[0;32m/Users/Sofia/anaconda/lib/python3.6/site-packages/joblib/parallel.py\u001b[0m in \u001b[0;36mretrieve\u001b[0;34m(self)\u001b[0m\n\u001b[1;32m    907\u001b[0m             \u001b[0;32mtry\u001b[0m\u001b[0;34m:\u001b[0m\u001b[0;34m\u001b[0m\u001b[0m\n\u001b[1;32m    908\u001b[0m                 \u001b[0;32mif\u001b[0m \u001b[0mgetattr\u001b[0m\u001b[0;34m(\u001b[0m\u001b[0mself\u001b[0m\u001b[0;34m.\u001b[0m\u001b[0m_backend\u001b[0m\u001b[0;34m,\u001b[0m \u001b[0;34m'supports_timeout'\u001b[0m\u001b[0;34m,\u001b[0m \u001b[0;32mFalse\u001b[0m\u001b[0;34m)\u001b[0m\u001b[0;34m:\u001b[0m\u001b[0;34m\u001b[0m\u001b[0m\n\u001b[0;32m--> 909\u001b[0;31m                     \u001b[0mself\u001b[0m\u001b[0;34m.\u001b[0m\u001b[0m_output\u001b[0m\u001b[0;34m.\u001b[0m\u001b[0mextend\u001b[0m\u001b[0;34m(\u001b[0m\u001b[0mjob\u001b[0m\u001b[0;34m.\u001b[0m\u001b[0mget\u001b[0m\u001b[0;34m(\u001b[0m\u001b[0mtimeout\u001b[0m\u001b[0;34m=\u001b[0m\u001b[0mself\u001b[0m\u001b[0;34m.\u001b[0m\u001b[0mtimeout\u001b[0m\u001b[0;34m)\u001b[0m\u001b[0;34m)\u001b[0m\u001b[0;34m\u001b[0m\u001b[0m\n\u001b[0m\u001b[1;32m    910\u001b[0m                 \u001b[0;32melse\u001b[0m\u001b[0;34m:\u001b[0m\u001b[0;34m\u001b[0m\u001b[0m\n\u001b[1;32m    911\u001b[0m                     \u001b[0mself\u001b[0m\u001b[0;34m.\u001b[0m\u001b[0m_output\u001b[0m\u001b[0;34m.\u001b[0m\u001b[0mextend\u001b[0m\u001b[0;34m(\u001b[0m\u001b[0mjob\u001b[0m\u001b[0;34m.\u001b[0m\u001b[0mget\u001b[0m\u001b[0;34m(\u001b[0m\u001b[0;34m)\u001b[0m\u001b[0;34m)\u001b[0m\u001b[0;34m\u001b[0m\u001b[0m\n",
      "\u001b[0;32m/Users/Sofia/anaconda/lib/python3.6/site-packages/joblib/_parallel_backends.py\u001b[0m in \u001b[0;36mwrap_future_result\u001b[0;34m(future, timeout)\u001b[0m\n\u001b[1;32m    560\u001b[0m         AsyncResults.get from multiprocessing.\"\"\"\n\u001b[1;32m    561\u001b[0m         \u001b[0;32mtry\u001b[0m\u001b[0;34m:\u001b[0m\u001b[0;34m\u001b[0m\u001b[0m\n\u001b[0;32m--> 562\u001b[0;31m             \u001b[0;32mreturn\u001b[0m \u001b[0mfuture\u001b[0m\u001b[0;34m.\u001b[0m\u001b[0mresult\u001b[0m\u001b[0;34m(\u001b[0m\u001b[0mtimeout\u001b[0m\u001b[0;34m=\u001b[0m\u001b[0mtimeout\u001b[0m\u001b[0;34m)\u001b[0m\u001b[0;34m\u001b[0m\u001b[0m\n\u001b[0m\u001b[1;32m    563\u001b[0m         \u001b[0;32mexcept\u001b[0m \u001b[0mLokyTimeoutError\u001b[0m\u001b[0;34m:\u001b[0m\u001b[0;34m\u001b[0m\u001b[0m\n\u001b[1;32m    564\u001b[0m             \u001b[0;32mraise\u001b[0m \u001b[0mTimeoutError\u001b[0m\u001b[0;34m(\u001b[0m\u001b[0;34m)\u001b[0m\u001b[0;34m\u001b[0m\u001b[0m\n",
      "\u001b[0;32m/Users/Sofia/anaconda/lib/python3.6/concurrent/futures/_base.py\u001b[0m in \u001b[0;36mresult\u001b[0;34m(self, timeout)\u001b[0m\n\u001b[1;32m    403\u001b[0m                 \u001b[0;32mraise\u001b[0m \u001b[0mCancelledError\u001b[0m\u001b[0;34m(\u001b[0m\u001b[0;34m)\u001b[0m\u001b[0;34m\u001b[0m\u001b[0m\n\u001b[1;32m    404\u001b[0m             \u001b[0;32melif\u001b[0m \u001b[0mself\u001b[0m\u001b[0;34m.\u001b[0m\u001b[0m_state\u001b[0m \u001b[0;34m==\u001b[0m \u001b[0mFINISHED\u001b[0m\u001b[0;34m:\u001b[0m\u001b[0;34m\u001b[0m\u001b[0m\n\u001b[0;32m--> 405\u001b[0;31m                 \u001b[0;32mreturn\u001b[0m \u001b[0mself\u001b[0m\u001b[0;34m.\u001b[0m\u001b[0m__get_result\u001b[0m\u001b[0;34m(\u001b[0m\u001b[0;34m)\u001b[0m\u001b[0;34m\u001b[0m\u001b[0m\n\u001b[0m\u001b[1;32m    406\u001b[0m             \u001b[0;32melse\u001b[0m\u001b[0;34m:\u001b[0m\u001b[0;34m\u001b[0m\u001b[0m\n\u001b[1;32m    407\u001b[0m                 \u001b[0;32mraise\u001b[0m \u001b[0mTimeoutError\u001b[0m\u001b[0;34m(\u001b[0m\u001b[0;34m)\u001b[0m\u001b[0;34m\u001b[0m\u001b[0m\n",
      "\u001b[0;32m/Users/Sofia/anaconda/lib/python3.6/concurrent/futures/_base.py\u001b[0m in \u001b[0;36m__get_result\u001b[0;34m(self)\u001b[0m\n\u001b[1;32m    355\u001b[0m     \u001b[0;32mdef\u001b[0m \u001b[0m__get_result\u001b[0m\u001b[0;34m(\u001b[0m\u001b[0mself\u001b[0m\u001b[0;34m)\u001b[0m\u001b[0;34m:\u001b[0m\u001b[0;34m\u001b[0m\u001b[0m\n\u001b[1;32m    356\u001b[0m         \u001b[0;32mif\u001b[0m \u001b[0mself\u001b[0m\u001b[0;34m.\u001b[0m\u001b[0m_exception\u001b[0m\u001b[0;34m:\u001b[0m\u001b[0;34m\u001b[0m\u001b[0m\n\u001b[0;32m--> 357\u001b[0;31m             \u001b[0;32mraise\u001b[0m \u001b[0mself\u001b[0m\u001b[0;34m.\u001b[0m\u001b[0m_exception\u001b[0m\u001b[0;34m\u001b[0m\u001b[0m\n\u001b[0m\u001b[1;32m    358\u001b[0m         \u001b[0;32melse\u001b[0m\u001b[0;34m:\u001b[0m\u001b[0;34m\u001b[0m\u001b[0m\n\u001b[1;32m    359\u001b[0m             \u001b[0;32mreturn\u001b[0m \u001b[0mself\u001b[0m\u001b[0;34m.\u001b[0m\u001b[0m_result\u001b[0m\u001b[0;34m\u001b[0m\u001b[0m\n",
      "\u001b[0;31mValueError\u001b[0m: Length of values does not match length of index"
     ]
    }
   ],
   "source": [
    "# Visualize the topics\n",
    "pyLDAvis.enable_notebook()\n",
    "vis = pyLDAvis.gensim.prepare(lda_model, corpus, id2word)\n",
    "vis"
   ]
  },
  {
   "cell_type": "code",
   "execution_count": 66,
   "metadata": {},
   "outputs": [],
   "source": [
    "# Download File: http://mallet.cs.umass.edu/dist/mallet-2.0.8.zip\n",
    "\n",
    "mallet_path = '/Users/Sofia/Desktop/LING_506/project/code/mallet-2.0.8/bin/mallet' # update this path\n",
    "ldamallet = gensim.models.wrappers.LdaMallet(mallet_path, corpus = corpus, num_topics = 10, id2word = id2word)\n"
   ]
  },
  {
   "cell_type": "code",
   "execution_count": 67,
   "metadata": {},
   "outputs": [
    {
     "name": "stdout",
     "output_type": "stream",
     "text": [
      "[(0,\n",
      "  [('feel', 0.054494695700725848),\n",
      "   ('time', 0.044645449469570074),\n",
      "   ('back', 0.033545505304299277),\n",
      "   ('day', 0.030597431602456728),\n",
      "   ('feeling', 0.029313232830820771),\n",
      "   ('work', 0.027984366275823562),\n",
      "   ('im', 0.027213847012841987),\n",
      "   ('days', 0.023026242322724735),\n",
      "   ('things', 0.02225572305974316),\n",
      "   ('dont', 0.019854829704075934)]),\n",
      " (1,\n",
      "  [('people', 0.036690698001029913),\n",
      "   ('post', 0.02828753335518),\n",
      "   ('read', 0.026461776134076121),\n",
      "   ('support', 0.024062543888394738),\n",
      "   ('find', 0.023676326014699687),\n",
      "   ('kind', 0.019708815130377793),\n",
      "   ('site', 0.016642479284677682),\n",
      "   ('give', 0.016466925705725388),\n",
      "   ('advice', 0.015331679228500539),\n",
      "   ('forum', 0.014769907775853191)]),\n",
      " (2,\n",
      "  [('cancer', 0.1342192913078834),\n",
      "   ('treatment', 0.039522785754865154),\n",
      "   ('years', 0.033295830502055229),\n",
      "   ('diagnosed', 0.015584097314277439),\n",
      "   ('diagnosis', 0.011585033028483587),\n",
      "   ('treatments', 0.0095687917033340387),\n",
      "   ('stage', 0.0093682815163025918),\n",
      "   ('life', 0.0082654754876296359),\n",
      "   ('lung', 0.0078978734780719827),\n",
      "   ('url', 0.0078533156587316608)]),\n",
      " (3,\n",
      "  [('treatment', 0.026095986778926682),\n",
      "   ('week', 0.02149541059025839),\n",
      "   ('good', 0.018190142260535544),\n",
      "   ('day', 0.01671617124863211),\n",
      "   ('eat', 0.012484087812939679),\n",
      "   ('mouth', 0.011479107577550975),\n",
      "   ('weeks', 0.011088281930455367),\n",
      "   ('end', 0.010786787859838757),\n",
      "   ('hazel', 0.010284297742144404),\n",
      "   ('days', 0.010250798400964781)]),\n",
      " (4,\n",
      "  [('breast', 0.034296503976655034),\n",
      "   ('surgery', 0.030485781312582252),\n",
      "   ('weeks', 0.026743720318132401),\n",
      "   ('radiotherapy', 0.024947073296332323),\n",
      "   ('ago', 0.019900440579046746),\n",
      "   ('op', 0.017588831035074668),\n",
      "   ('left', 0.016730560164788008),\n",
      "   ('year', 0.014796589803742061),\n",
      "   ('removed', 0.014052755049493619),\n",
      "   ('lymph', 0.013972649768266865)]),\n",
      " (5,\n",
      "  [('hair', 0.028189926942899259),\n",
      "   ('lol', 0.01952851809212296),\n",
      "   ('today', 0.017279779645151226),\n",
      "   ('nice', 0.016182309206916216),\n",
      "   ('bit', 0.014848129458473655),\n",
      "   ('day', 0.012706986152505352),\n",
      "   ('lovely', 0.012276605588491623),\n",
      "   ('good', 0.011760148911675148),\n",
      "   ('forward', 0.010544323818336363),\n",
      "   ('back', 0.010286095479928127)]),\n",
      " (6,\n",
      "  [('hope', 0.097533714903338328),\n",
      "   ('good', 0.090471394531921684),\n",
      "   ('xx', 0.046279692451300695),\n",
      "   ('hear', 0.041514161487631727),\n",
      "   ('love', 0.038197941487140438),\n",
      "   ('news', 0.029477511115478149),\n",
      "   ('xxx', 0.026370090152054829),\n",
      "   ('glad', 0.023225822299737159),\n",
      "   ('luck', 0.022967894077476726),\n",
      "   ('care', 0.022685401262620059)]),\n",
      " (7,\n",
      "  [('time', 0.03719838410306802),\n",
      "   ('life', 0.025570477126323835),\n",
      "   ('feel', 0.024959056665574846),\n",
      "   ('family', 0.023572442406376241),\n",
      "   ('things', 0.01826618626487608),\n",
      "   ('friends', 0.015220002183644502),\n",
      "   ('mum', 0.013374822578884157),\n",
      "   ('hard', 0.012916257233322416),\n",
      "   ('people', 0.012861666120755542),\n",
      "   ('husband', 0.012446773665247298)]),\n",
      " (8,\n",
      "  [('hospital', 0.036799409178504251),\n",
      "   ('told', 0.033856841182104573),\n",
      "   ('scan', 0.030591167680217867),\n",
      "   ('back', 0.030106509421987331),\n",
      "   ('week', 0.023667478276924496),\n",
      "   ('results', 0.022825096066190469),\n",
      "   ('nurse', 0.017886197625174533),\n",
      "   ('waiting', 0.017620789531381621),\n",
      "   ('blood', 0.014955169111113675),\n",
      "   ('today', 0.014666682052643118)]),\n",
      " (9,\n",
      "  [('chemo', 0.095301952405845852),\n",
      "   ('side', 0.03754801463736164),\n",
      "   ('pain', 0.034070504807145942),\n",
      "   ('effects', 0.024774416437484376),\n",
      "   ('taking', 0.020160465486283155),\n",
      "   ('started', 0.019353592290383435),\n",
      "   ('treatment', 0.017501193263177034),\n",
      "   ('bad', 0.016978430347523693),\n",
      "   ('problems', 0.010466622724276656),\n",
      "   ('start', 0.010330249789758392)])]\n"
     ]
    }
   ],
   "source": [
    "# Show Topics\n",
    "pprint(ldamallet.show_topics(formatted=False))"
   ]
  },
  {
   "cell_type": "code",
   "execution_count": 69,
   "metadata": {},
   "outputs": [
    {
     "name": "stdout",
     "output_type": "stream",
     "text": [
      "\n",
      "Coherence Score:  0.468551381683\n"
     ]
    }
   ],
   "source": [
    "# Compute Coherence Score\n",
    "coherence_model_ldamallet = CoherenceModel(model = ldamallet, texts = data_words,\n",
    "                                           dictionary = id2word, coherence = 'c_v')\n",
    "coherence_ldamallet = coherence_model_ldamallet.get_coherence()\n",
    "print('\\nCoherence Score: ', coherence_ldamallet)"
   ]
  },
  {
   "cell_type": "code",
   "execution_count": null,
   "metadata": {
    "collapsed": true
   },
   "outputs": [],
   "source": []
  }
 ],
 "metadata": {
  "kernelspec": {
   "display_name": "Python 3",
   "language": "python",
   "name": "python3"
  },
  "language_info": {
   "codemirror_mode": {
    "name": "ipython",
    "version": 3
   },
   "file_extension": ".py",
   "mimetype": "text/x-python",
   "name": "python",
   "nbconvert_exporter": "python",
   "pygments_lexer": "ipython3",
   "version": "3.6.1"
  }
 },
 "nbformat": 4,
 "nbformat_minor": 2
}
